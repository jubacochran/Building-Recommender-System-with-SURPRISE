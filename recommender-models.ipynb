{
 "cells": [
  {
   "cell_type": "markdown",
   "metadata": {},
   "source": [
    "### Building a Recommender system with Surprise\n",
    "\n",
    "This try-it focuses on exploring additional algorithms with the `Suprise` library to generate recommendations.  Your goal is to identify the optimal algorithm by minimizing the mean squared error using cross validation. You are also going to select a dataset to use from [grouplens](https://grouplens.org/datasets/movielens/) example datasets.  \n",
    "\n",
    "To begin, head over to grouplens and examine the different datasets available.  Choose one so that it is easy to create the data as expected in `Surprise` with user, item, and rating information.  Then, compare the performance of at least the `KNNBasic`, `SVD`, `NMF`, `SlopeOne`, and `CoClustering` algorithms to build your recommendations.  For more information on the algorithms see the documentation for the algorithm package [here](https://surprise.readthedocs.io/en/stable/prediction_algorithms_package.html).\n",
    "\n",
    "Share the results of your investigation and include the results of your cross validation and a basic description of your dataset with your peers.\n",
    "\n"
   ]
  },
  {
   "cell_type": "code",
   "execution_count": 31,
   "metadata": {},
   "outputs": [],
   "source": [
    "from surprise import Dataset, Reader, SVD, NMF, KNNBasic, SlopeOne, CoClustering\n",
    "from surprise.model_selection import cross_validate\n",
    "from surprise.model_selection import GridSearchCV\n",
    "import seaborn as sns\n",
    "\n",
    "\n",
    "import pandas as pd"
   ]
  },
  {
   "cell_type": "code",
   "execution_count": 2,
   "metadata": {},
   "outputs": [],
   "source": [
    "movies = pd.read_csv('ml-latest-small/movies.csv',delimiter=\",\")\n",
    "ratings = pd.read_csv('ml-latest-small/ratings.csv',delimiter=\",\").set_index('userId')\n",
    "#ratings = ratings.sample(frac=.3, random_state=1)\n"
   ]
  },
  {
   "cell_type": "code",
   "execution_count": 3,
   "metadata": {},
   "outputs": [
    {
     "name": "stdout",
     "output_type": "stream",
     "text": [
      "   movieId                               title  \\\n",
      "0        1                    Toy Story (1995)   \n",
      "1        2                      Jumanji (1995)   \n",
      "2        3             Grumpier Old Men (1995)   \n",
      "3        4            Waiting to Exhale (1995)   \n",
      "4        5  Father of the Bride Part II (1995)   \n",
      "\n",
      "                                        genres  \n",
      "0  Adventure|Animation|Children|Comedy|Fantasy  \n",
      "1                   Adventure|Children|Fantasy  \n",
      "2                               Comedy|Romance  \n",
      "3                         Comedy|Drama|Romance  \n",
      "4                                       Comedy  \n",
      "(9742, 3)\n"
     ]
    }
   ],
   "source": [
    "print(movies.head())\n",
    "print(movies.shape)\n",
    "\n"
   ]
  },
  {
   "cell_type": "code",
   "execution_count": 4,
   "metadata": {},
   "outputs": [
    {
     "name": "stdout",
     "output_type": "stream",
     "text": [
      "        movieId  rating  timestamp\n",
      "userId                            \n",
      "1             1     4.0  964982703\n",
      "1             3     4.0  964981247\n",
      "1             6     4.0  964982224\n",
      "1            47     5.0  964983815\n",
      "1            50     5.0  964982931\n",
      "1            70     3.0  964982400\n",
      "1           101     5.0  964980868\n",
      "1           110     4.0  964982176\n",
      "1           151     5.0  964984041\n",
      "1           157     5.0  964984100\n",
      "(100836, 3)\n"
     ]
    }
   ],
   "source": [
    "print(ratings.head(10))\n",
    "#print(ratings.query('movieId == 1'))\n",
    "print(ratings.shape)"
   ]
  },
  {
   "cell_type": "code",
   "execution_count": null,
   "metadata": {},
   "outputs": [],
   "source": [
    "\n",
    "new_ratings = pd.merge(ratings.reset_index(), movies[['movieId', 'title']], on='movieId', how='inner')\n",
    "print(new_ratings.head(20))\n",
    "print(new_ratings.shape)\n"
   ]
  },
  {
   "cell_type": "code",
   "execution_count": 6,
   "metadata": {},
   "outputs": [
    {
     "name": "stdout",
     "output_type": "stream",
     "text": [
      "<class 'surprise.dataset.DatasetAutoFolds'> <class 'surprise.trainset.Trainset'> 100836\n"
     ]
    }
   ],
   "source": [
    "a = new_ratings[['userId','title','rating']]\n",
    "reader = Reader(rating_scale=(0,5))\n",
    "sf = Dataset.load_from_df(a,reader)\n",
    "train = sf.build_full_trainset()\n",
    "print(type(sf),type(train), train.n_ratings)"
   ]
  },
  {
   "cell_type": "code",
   "execution_count": 7,
   "metadata": {},
   "outputs": [
    {
     "data": {
      "text/plain": [
       "<surprise.prediction_algorithms.matrix_factorization.SVD at 0x1763d9690>"
      ]
     },
     "execution_count": 7,
     "metadata": {},
     "output_type": "execute_result"
    }
   ],
   "source": [
    "svd_model = SVD(n_factors=2)\n",
    "svd_model.fit(train)"
   ]
  },
  {
   "cell_type": "code",
   "execution_count": 8,
   "metadata": {},
   "outputs": [
    {
     "name": "stdout",
     "output_type": "stream",
     "text": [
      "[Prediction(uid=1, iid='Toy Story (1995)', r_ui=4.0, est=4.690937803610566, details={'was_impossible': False}), Prediction(uid=1, iid='Grumpier Old Men (1995)', r_ui=4.0, est=4.007700684860909, details={'was_impossible': False}), Prediction(uid=1, iid='Heat (1995)', r_ui=4.0, est=4.7155227767828505, details={'was_impossible': False})]\n"
     ]
    }
   ],
   "source": [
    "test = train.build_testset()\n",
    "predictions_list = svd_model.test(test)\n",
    "print(predictions_list[:3])"
   ]
  },
  {
   "cell_type": "code",
   "execution_count": 9,
   "metadata": {},
   "outputs": [
    {
     "name": "stdout",
     "output_type": "stream",
     "text": [
      "{'test_rmse': array([0.87470307, 0.87120245, 0.87035677, 0.87486948, 0.85966131]), 'fit_time': (0.08022689819335938, 0.07386302947998047, 0.06936788558959961, 0.06888294219970703, 0.06901311874389648), 'test_time': (0.06292986869812012, 0.025393009185791016, 0.024606943130493164, 0.05880904197692871, 0.02447509765625)}\n"
     ]
    }
   ],
   "source": [
    "svd_cross_val_results = cross_validate(svd_model,sf,measures=['RMSE'])\n",
    "print(svd_cross_val_results)"
   ]
  },
  {
   "cell_type": "code",
   "execution_count": null,
   "metadata": {},
   "outputs": [],
   "source": [
    "clustering = CoClustering(n_epochs=5,n_cltr_u=1000)\n",
    "clustering.fit(train)\n",
    "clustering_predictions = clustering.test(test)\n",
    "predictions_list"
   ]
  },
  {
   "cell_type": "code",
   "execution_count": 11,
   "metadata": {},
   "outputs": [
    {
     "name": "stdout",
     "output_type": "stream",
     "text": [
      "{'test_rmse': array([0.95929807, 0.96717498, 0.95902621, 0.96578999, 0.9648401 ]), 'fit_time': (3.769735813140869, 3.7775449752807617, 3.7594058513641357, 3.770475149154663, 3.7641148567199707), 'test_time': (0.033264875411987305, 0.0344700813293457, 0.03582000732421875, 0.03319692611694336, 0.03304290771484375)}\n"
     ]
    }
   ],
   "source": [
    "clustering_cross_val_results = cross_validate(clustering,sf,measures=['RMSE'],n_jobs=-1)\n",
    "print(clustering_cross_val_results)"
   ]
  },
  {
   "cell_type": "code",
   "execution_count": 12,
   "metadata": {},
   "outputs": [
    {
     "name": "stdout",
     "output_type": "stream",
     "text": [
      "[Prediction(uid=1, iid='Toy Story (1995)', r_ui=4.0, est=4.711895386434586, details={'was_impossible': False}), Prediction(uid=1, iid='Grumpier Old Men (1995)', r_ui=4.0, est=3.922677009784783, details={'was_impossible': False}), Prediction(uid=1, iid='Heat (1995)', r_ui=4.0, est=4.602541510092789, details={'was_impossible': False})]\n"
     ]
    }
   ],
   "source": [
    "slope_model = SlopeOne()\n",
    "slope_model.fit(train)\n",
    "slope_predictions = slope_model.test(test)\n",
    "print(slope_predictions[:3])"
   ]
  },
  {
   "cell_type": "code",
   "execution_count": 13,
   "metadata": {},
   "outputs": [
    {
     "name": "stdout",
     "output_type": "stream",
     "text": [
      "{'test_rmse': array([0.90634725, 0.90551732, 0.89728644, 0.90344135, 0.89840488]), 'fit_time': (0.9596309661865234, 0.9590668678283691, 0.9444699287414551, 0.9481830596923828, 0.9770612716674805), 'test_time': (1.3552229404449463, 1.3612651824951172, 1.3486311435699463, 1.3491320610046387, 1.348665714263916)}\n"
     ]
    }
   ],
   "source": [
    "slope_cross_val_results = cross_validate(slope_model,sf,measures = ['RMSE'],n_jobs=-1,cv=5)\n",
    "\n",
    "print(slope_cross_val_results)"
   ]
  },
  {
   "cell_type": "code",
   "execution_count": 14,
   "metadata": {},
   "outputs": [],
   "source": [
    "nmf_model = NMF()"
   ]
  },
  {
   "cell_type": "code",
   "execution_count": 15,
   "metadata": {},
   "outputs": [],
   "source": [
    "nmf_model.fit(train)\n",
    "nmf_predictions = nmf_model.test(test)"
   ]
  },
  {
   "cell_type": "code",
   "execution_count": 16,
   "metadata": {},
   "outputs": [
    {
     "name": "stdout",
     "output_type": "stream",
     "text": [
      "{'test_rmse': array([0.90634725, 0.90551732, 0.89728644, 0.90344135, 0.89840488]), 'fit_time': (0.9596309661865234, 0.9590668678283691, 0.9444699287414551, 0.9481830596923828, 0.9770612716674805), 'test_time': (1.3552229404449463, 1.3612651824951172, 1.3486311435699463, 1.3491320610046387, 1.348665714263916)}\n"
     ]
    }
   ],
   "source": [
    "nmf_cross_val_results = cross_validate(nmf_model,sf,measures=['RMSE'],n_jobs=-1,cv=5)\n",
    "print(slope_cross_val_results)"
   ]
  },
  {
   "cell_type": "code",
   "execution_count": 17,
   "metadata": {},
   "outputs": [
    {
     "name": "stdout",
     "output_type": "stream",
     "text": [
      "Computing the msd similarity matrix...\n",
      "Done computing similarity matrix.\n"
     ]
    },
    {
     "data": {
      "text/plain": [
       "<surprise.prediction_algorithms.knns.KNNBasic at 0x3b3405b90>"
      ]
     },
     "execution_count": 17,
     "metadata": {},
     "output_type": "execute_result"
    }
   ],
   "source": [
    "knn_model = KNNBasic(k=40)\n",
    "knn_model.fit(train)"
   ]
  },
  {
   "cell_type": "code",
   "execution_count": 18,
   "metadata": {},
   "outputs": [
    {
     "name": "stdout",
     "output_type": "stream",
     "text": [
      "[Prediction(uid=1, iid='Toy Story (1995)', r_ui=4.0, est=4.194241094435477, details={'actual_k': 40, 'was_impossible': False}), Prediction(uid=1, iid='Grumpier Old Men (1995)', r_ui=4.0, est=3.537846642835428, details={'actual_k': 40, 'was_impossible': False}), Prediction(uid=1, iid='Heat (1995)', r_ui=4.0, est=4.137272151175017, details={'actual_k': 40, 'was_impossible': False})]\n"
     ]
    }
   ],
   "source": [
    "knn_predictions = knn_model.test(test)\n",
    "print(knn_predictions[:3])"
   ]
  },
  {
   "cell_type": "code",
   "execution_count": 19,
   "metadata": {},
   "outputs": [
    {
     "name": "stdout",
     "output_type": "stream",
     "text": [
      "Computing the msd similarity matrix...\n",
      "Done computing similarity matrix.\n",
      "Computing the msd similarity matrix...\n",
      "Done computing similarity matrix.\n",
      "Computing the msd similarity matrix...\n",
      "Done computing similarity matrix.\n",
      "Computing the msd similarity matrix...\n",
      "Done computing similarity matrix.\n",
      "Computing the msd similarity matrix...\n",
      "Done computing similarity matrix.\n",
      "{'test_rmse': array([0.95288556, 0.9469216 , 0.94264606, 0.94893381, 0.95164896]), 'fit_time': (0.020975112915039062, 0.021445274353027344, 0.02181696891784668, 0.021139860153198242, 0.02005290985107422), 'test_time': (0.3060300350189209, 0.3054490089416504, 0.30852723121643066, 0.30466699600219727, 0.29813408851623535)}\n"
     ]
    }
   ],
   "source": [
    "knn_cross_val_results = cross_validate(knn_model,sf,measures=['RMSE'],cv=5,n_jobs=-1)\n",
    "print(knn_cross_val_results)"
   ]
  },
  {
   "cell_type": "code",
   "execution_count": 20,
   "metadata": {},
   "outputs": [],
   "source": [
    "params = {\n",
    "    'n_factors': [10,15,20],\n",
    "    'n_epochs':[50,150,250],\n",
    "    'reg_pu': [.001,.015,.06],\n",
    "    'reg_qi': [.001,.015,.06]\n",
    "\n",
    "}"
   ]
  },
  {
   "cell_type": "code",
   "execution_count": 21,
   "metadata": {},
   "outputs": [
    {
     "name": "stdout",
     "output_type": "stream",
     "text": [
      "{'rmse': 0.920309202466988}\n",
      "{'rmse': {'n_factors': 20, 'n_epochs': 50, 'reg_pu': 0.06, 'reg_qi': 0.06}}\n"
     ]
    }
   ],
   "source": [
    "nmf_gridSearch = GridSearchCV(NMF, param_grid=params, measures=['rmse'],cv=5,n_jobs=-1,return_train_measures=True)\n",
    "nmf_gridSearch.fit(sf)\n",
    "\n",
    "print(nmf_gridSearch.best_score)\n",
    "print(nmf_gridSearch.best_params)"
   ]
  },
  {
   "cell_type": "code",
   "execution_count": 28,
   "metadata": {},
   "outputs": [],
   "source": [
    "bar_plots = {\n",
    "    \n",
    "    'slopeOne': max(slope_cross_val_results['test_time']),\n",
    "    'knn_basic': max(knn_cross_val_results['test_rmse']),\n",
    "    'nmf': max(nmf_cross_val_results['test_rmse']),\n",
    "    'clustering':max(clustering_cross_val_results['test_rmse']),\n",
    "    'svd':max(svd_cross_val_results['test_rmse']),\n",
    "}"
   ]
  },
  {
   "cell_type": "code",
   "execution_count": 29,
   "metadata": {},
   "outputs": [
    {
     "name": "stdout",
     "output_type": "stream",
     "text": [
      "{'slopeOne': 1.3612651824951172, 'knn_basic': 0.95288555581061, 'nmf': 0.9304054357743453, 'clustering': 0.9671749755422602, 'svd': 0.8748694808534363}\n"
     ]
    }
   ],
   "source": [
    "print(bar_plots)"
   ]
  },
  {
   "cell_type": "code",
   "execution_count": 30,
   "metadata": {},
   "outputs": [
    {
     "name": "stderr",
     "output_type": "stream",
     "text": [
      "/opt/anaconda3/lib/python3.11/site-packages/seaborn/_oldcore.py:1765: FutureWarning: unique with argument that is not not a Series, Index, ExtensionArray, or np.ndarray is deprecated and will raise in a future version.\n",
      "  order = pd.unique(vector)\n"
     ]
    },
    {
     "data": {
      "text/plain": [
       "<Axes: >"
      ]
     },
     "execution_count": 30,
     "metadata": {},
     "output_type": "execute_result"
    },
    {
     "data": {
      "image/png": "[encoded data removed]",
      "text/plain": [
       "<Figure size 640x480 with 1 Axes>"
      ]
     },
     "metadata": {},
     "output_type": "display_data"
    }
   ],
   "source": [
    "\n",
    "keys = list(bar_plots.keys())\n",
    "\n",
    "vals = [float(bar_plots[k]) for k in keys]\n",
    "\n",
    "\n",
    "sns.barplot(x=keys,y=vals)"
   ]
  }
 ],
 "metadata": {
  "kernelspec": {
   "display_name": "Python 3",
   "language": "python",
   "name": "python3"
  },
  "language_info": {
   "codemirror_mode": {
    "name": "ipython",
    "version": 3
   },
   "file_extension": ".py",
   "mimetype": "text/x-python",
   "name": "python",
   "nbconvert_exporter": "python",
   "pygments_lexer": "ipython3",
   "version": "3.11.7"
  }
 },
 "nbformat": 4,
 "nbformat_minor": 4
}
